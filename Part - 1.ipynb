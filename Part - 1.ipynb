{
 "cells": [
  {
   "cell_type": "code",
   "execution_count": 1,
   "id": "e339f4c4-7728-46ab-8fc7-b138b4a5cfa1",
   "metadata": {},
   "outputs": [
    {
     "name": "stdin",
     "output_type": "stream",
     "text": [
      "Enter no.:  1\n",
      "Enter no.:  2\n",
      "Enter no.:  3\n",
      "Enter no.:  4\n",
      "Enter no.:  5\n",
      "Enter no.:  6\n",
      "Enter no.:  7\n",
      "Enter no.:  8\n",
      "Enter no.:  9\n",
      "Enter no.:  10\n"
     ]
    },
    {
     "data": {
      "text/plain": [
       "[2, 4, 6, 8, 10]"
      ]
     },
     "execution_count": 1,
     "metadata": {},
     "output_type": "execute_result"
    }
   ],
   "source": [
    "# Take a list of integers as input\n",
    "a = [int(input(\"Enter no.: \")) for i in range (10)]\n",
    "\n",
    "# Return a new list with only the even numbers\n",
    "my_list = [x for x in a if x%2 == 0]\n",
    "my_list"
   ]
  },
  {
   "cell_type": "code",
   "execution_count": 1,
   "id": "f80fa0fe-26d8-410d-9389-6813e68c0e4a",
   "metadata": {},
   "outputs": [
    {
     "name": "stdin",
     "output_type": "stream",
     "text": [
      "Enter str:  chanchal\n"
     ]
    },
    {
     "name": "stdout",
     "output_type": "stream",
     "text": [
      "{'c': 2, 'h': 2, 'a': 2, 'n': 1, 'l': 1}\n"
     ]
    }
   ],
   "source": [
    "# Reads a string from a user\n",
    "str = input(\"Enter str: \")\n",
    "\n",
    "# Counts the frequency of each Character\n",
    "res = {}\n",
    "for i in str:\n",
    "    if i in res:\n",
    "        res[i]+=1\n",
    "    else:\n",
    "        res[i]=1\n",
    "\n",
    "# Prints the result as a dictionary\n",
    "print(res)"
   ]
  },
  {
   "cell_type": "code",
   "execution_count": null,
   "id": "e47bd7e2-58d6-481e-b9e5-4c903632417b",
   "metadata": {},
   "outputs": [],
   "source": [
    "# Create a class Bankaccount with \n",
    "# Attributes: account_number, balance\n",
    "class Bankaccount:\n",
    "    account_number = 23435465788\n",
    "    balance = 7,45,24,374"
   ]
  },
  {
   "cell_type": "code",
   "execution_count": null,
   "id": "7cec736e-4995-4504-9655-f626c9629b8e",
   "metadata": {},
   "outputs": [],
   "source": [
    "# Methods:\n"
   ]
  },
  {
   "cell_type": "code",
   "execution_count": 3,
   "id": "83e303c3-53c0-4c91-b576-0316faee40dd",
   "metadata": {},
   "outputs": [
    {
     "data": {
      "text/plain": [
       "'Hey There,\\nI am using whatsapp.\\n'"
      ]
     },
     "execution_count": 3,
     "metadata": {},
     "output_type": "execute_result"
    }
   ],
   "source": [
    "# Reads a text file (data.txt)\n",
    "with open(r\"C:\\Users\\Admin\\Desktop\\data.txt\\data.txt\", 'r') as f:\n",
    "    txt = f.read()\n",
    "\n",
    "txt"
   ]
  },
  {
   "cell_type": "code",
   "execution_count": 3,
   "id": "87139ef3-348d-45d2-bc2c-f97c8513328f",
   "metadata": {},
   "outputs": [
    {
     "data": {
      "text/plain": [
       "32"
      ]
     },
     "execution_count": 3,
     "metadata": {},
     "output_type": "execute_result"
    }
   ],
   "source": [
    "# Counts how many words are there in total\n",
    "total_words = len(txt)\n",
    "total_words"
   ]
  },
  {
   "cell_type": "code",
   "execution_count": null,
   "id": "14d3546b-a5e2-44db-90b7-a272a27f12e7",
   "metadata": {},
   "outputs": [],
   "source": [
    "# prints the 5 most frequent words\n",
    "\n",
    "word = {'a', 's', 'p', 'e', 'm'}\n",
    "for i in txt:\n",
    "    if i in word:\n",
    "        word[i]+=1\n",
    "    else:\n",
    "        word[i]=1\n",
    "\n",
    "print(word)"
   ]
  }
 ],
 "metadata": {
  "kernelspec": {
   "display_name": "Python 3 (ipykernel)",
   "language": "python",
   "name": "python3"
  },
  "language_info": {
   "codemirror_mode": {
    "name": "ipython",
    "version": 3
   },
   "file_extension": ".py",
   "mimetype": "text/x-python",
   "name": "python",
   "nbconvert_exporter": "python",
   "pygments_lexer": "ipython3",
   "version": "3.13.1"
  }
 },
 "nbformat": 4,
 "nbformat_minor": 5
}
